{
  "cells": [
    {
      "cell_type": "markdown",
      "source": [
        "Make sure you change the start date to today so we can ensure there is data for today."
      ],
      "metadata": {
        "nteract": {
          "transient": {
            "deleting": false
          }
        }
      }
    },
    {
      "cell_type": "code",
      "source": [
        "# Import NYC yellow cab data from Azure Open Datasets\r\n",
        "from azureml.opendatasets import NycTlcYellow\r\n",
        "\r\n",
        "from datetime import datetime\r\n",
        "from dateutil import parser\r\n",
        "\r\n",
        "from pyspark.sql.functions import *\r\n",
        "\r\n",
        "# Get the current month and year so we can build out a dataset for partitioning through today\r\n",
        "sqldf = spark.sql(\"select month(current_date()) as month, dayofmonth(current_date()) as day\")\r\n",
        "\r\n",
        "for datecol in sqldf.collect():\r\n",
        "    currentmonth = datecol[\"month\"]\r\n",
        "    currentday = datecol[\"day\"]\r\n",
        "\r\n",
        "#2018 is the last year in the yellowtaxi dataset\r\n",
        "end_date_val = \"2018-\" + str(currentmonth) + \"-\" + str(currentday) + \" 23:59:59\"\r\n",
        "end_date = parser.parse(end_date_val)\r\n",
        "start_date = parser.parse('2018-01-01 00:00:00')\r\n",
        "\r\n",
        "nyc_tlc = NycTlcYellow(start_date=start_date, end_date=end_date)\r\n",
        "nyc_tlc_df = nyc_tlc.to_spark_dataframe()"
      ],
      "outputs": [
        {
          "output_type": "display_data",
          "data": {
            "application/vnd.livy.statement-meta+json": {
              "spark_pool": "cgmsynapsewpbi",
              "session_id": "6",
              "statement_id": 2,
              "state": "submitted",
              "livy_statement_state": "running",
              "queued_time": "2022-08-22T14:34:28.4053253Z",
              "session_start_time": "2022-08-22T14:34:28.4420504Z",
              "execution_start_time": "2022-08-22T14:37:59.7233572Z",
              "execution_finish_time": null,
              "spark_jobs": null
            },
            "text/plain": "StatementMeta(cgmsynapsewpbi, 6, 2, Submitted, Running)"
          },
          "metadata": {}
        }
      ],
      "execution_count": 1,
      "metadata": {
        "jupyter": {
          "source_hidden": false,
          "outputs_hidden": false
        },
        "nteract": {
          "transient": {
            "deleting": false
          }
        }
      }
    },
    {
      "cell_type": "markdown",
      "source": [
        "We're using the NYC Yellow Taxi dataset for our baseline dataset.  This dataset only covers up to 2018 in the public samples, so we need to do some manipulations on the file for our purposes:\r\n",
        "1. We add 4 years to the start and end date to make the data appear current.\r\n",
        "2. We add 4 years to the pyYear column to correspond to the manipulated dates.\r\n"
      ],
      "metadata": {
        "nteract": {
          "transient": {
            "deleting": false
          }
        }
      }
    },
    {
      "cell_type": "code",
      "source": [
        "##  Shift the dates from 2018 -> 2022, and create a field with pickup date\r\n",
        "##  This assumes you're running the code in 2022, in the future you may need to adjust this logic.\r\n",
        "nyc_tlc_df = nyc_tlc_df.withColumn('tpepPickupDateTime',add_months(col('tpepPickupDateTime'),48))\r\n",
        "nyc_tlc_df = nyc_tlc_df.withColumn('tpepDropoffDateTime',add_months(col('tpepDropoffDateTime'),48))\r\n",
        "nyc_tlc_df = nyc_tlc_df.withColumn('puYear',col('puYear')+4)\r\n",
        "\r\n",
        "nyc_tlc_df.write.mode(\"overwrite\").partitionBy(\"puYear\",\"puMonth\").parquet(\"/output/nycyellow-ym\")"
      ],
      "outputs": [
        {
          "output_type": "display_data",
          "data": {
            "application/vnd.livy.statement-meta+json": {
              "spark_pool": null,
              "session_id": null,
              "statement_id": null,
              "state": "waiting",
              "livy_statement_state": null,
              "queued_time": "2022-08-22T14:34:28.4090428Z",
              "session_start_time": null,
              "execution_start_time": null,
              "execution_finish_time": null,
              "spark_jobs": null
            },
            "text/plain": "StatementMeta(, , , Waiting, )"
          },
          "metadata": {}
        }
      ],
      "execution_count": null,
      "metadata": {
        "jupyter": {
          "source_hidden": false,
          "outputs_hidden": false
        },
        "nteract": {
          "transient": {
            "deleting": false
          }
        },
        "collapsed": false
      }
    },
    {
      "cell_type": "markdown",
      "source": [
        "A common approach to partitioning is to partition on year/month/day, where day = day of month.  Here we extract the day from the tpepPickupDateTime to fabricate the day field, and persist the results so we can demonstrate how this can impact query performance."
      ],
      "metadata": {
        "nteract": {
          "transient": {
            "deleting": false
          }
        }
      }
    },
    {
      "cell_type": "code",
      "source": [
        "#This may seem counter intuitive, I'm grabbing the day from the drop off not the pickup.   However, I discovered that the pickup\r\n",
        "#year and month matched the dropoff date not the picup date.\r\n",
        "nyc_df_ymd = nyc_tlc_df.withColumn('puDay', dayofmonth(col('tpepDropoffDateTime')))\r\n",
        "nyc_df_ymd.write.mode(\"overwrite\").partitionBy(\"puYear\",\"puMonth\",\"puDay\").parquet(\"/output/nycyellow-ymd\")"
      ],
      "outputs": [
        {
          "output_type": "display_data",
          "data": {
            "application/vnd.livy.statement-meta+json": {
              "spark_pool": null,
              "session_id": null,
              "statement_id": null,
              "state": "waiting",
              "livy_statement_state": null,
              "queued_time": "2022-08-22T14:34:28.4109894Z",
              "session_start_time": null,
              "execution_start_time": null,
              "execution_finish_time": null,
              "spark_jobs": null
            },
            "text/plain": "StatementMeta(, , , Waiting, )"
          },
          "metadata": {}
        }
      ],
      "execution_count": null,
      "metadata": {
        "jupyter": {
          "source_hidden": false,
          "outputs_hidden": false
        },
        "nteract": {
          "transient": {
            "deleting": false
          }
        }
      }
    },
    {
      "cell_type": "markdown",
      "source": [
        "While we do have the attributes for year, month and day in our paritioning structure, to illustrate a secondary concept for partitioning we're going to fabricate a full date field.  This will be used to persist the partitons in year/month/date format where date represents the full date instead of just the calendar day of month."
      ],
      "metadata": {
        "nteract": {
          "transient": {
            "deleting": false
          }
        }
      }
    },
    {
      "cell_type": "code",
      "source": [
        "nyc_tlc_df = nyc_tlc_df.withColumn(\"puDate\",to_date(col('tpepDropoffDateTime')))\r\n",
        "nyc_tlc_df.write.mode(\"overwrite\").partitionBy(\"puYear\",\"puMonth\",\"puDate\").parquet(\"/output/nycyellow-ymdate\")"
      ],
      "outputs": [
        {
          "output_type": "display_data",
          "data": {
            "application/vnd.livy.statement-meta+json": {
              "spark_pool": null,
              "session_id": null,
              "statement_id": null,
              "state": "waiting",
              "livy_statement_state": null,
              "queued_time": "2022-08-22T14:34:28.4131817Z",
              "session_start_time": null,
              "execution_start_time": null,
              "execution_finish_time": null,
              "spark_jobs": null
            },
            "text/plain": "StatementMeta(, , , Waiting, )"
          },
          "metadata": {}
        }
      ],
      "execution_count": null,
      "metadata": {
        "jupyter": {
          "source_hidden": false,
          "outputs_hidden": false
        },
        "nteract": {
          "transient": {
            "deleting": false
          }
        }
      }
    },
    {
      "cell_type": "markdown",
      "source": [
        "Finally we'll persist the same dataset in delta format instead of parquet to see how this imapcts the Serverless SQL Endpoint."
      ],
      "metadata": {
        "nteract": {
          "transient": {
            "deleting": false
          }
        }
      }
    },
    {
      "cell_type": "code",
      "source": [
        "nyc_tlc_df.write.mode(\"overwrite\").partitionBy(\"puYear\",\"puMonth\",\"puDate\").format(\"delta\").save(\"/output/nycyellow-ymdate-delta\")"
      ],
      "outputs": [
        {
          "output_type": "display_data",
          "data": {
            "application/vnd.livy.statement-meta+json": {
              "spark_pool": null,
              "session_id": null,
              "statement_id": null,
              "state": "waiting",
              "livy_statement_state": null,
              "queued_time": "2022-08-22T14:34:28.4158865Z",
              "session_start_time": null,
              "execution_start_time": null,
              "execution_finish_time": null,
              "spark_jobs": null
            },
            "text/plain": "StatementMeta(, , , Waiting, )"
          },
          "metadata": {}
        }
      ],
      "execution_count": null,
      "metadata": {
        "jupyter": {
          "source_hidden": false,
          "outputs_hidden": false
        },
        "nteract": {
          "transient": {
            "deleting": false
          }
        }
      }
    }
  ],
  "metadata": {
    "kernelspec": {
      "name": "synapse_pyspark",
      "language": "Python",
      "display_name": "Synapse PySpark"
    },
    "language_info": {
      "name": "python"
    },
    "kernel_info": {
      "name": "synapse_pyspark"
    },
    "description": null,
    "save_output": true,
    "synapse_widget": {
      "version": "0.1",
      "state": {}
    }
  },
  "nbformat": 4,
  "nbformat_minor": 2
}